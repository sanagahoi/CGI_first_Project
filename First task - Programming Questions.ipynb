{
 "cells": [
  {
   "cell_type": "markdown",
   "id": "23f66146",
   "metadata": {},
   "source": [
    "# Programming Questions"
   ]
  },
  {
   "cell_type": "markdown",
   "id": "ebaa8bca",
   "metadata": {},
   "source": [
    "Q1. Write a program to find all pairs of an integer array whose sum is equal to a given number?"
   ]
  },
  {
   "cell_type": "code",
   "execution_count": 78,
   "id": "84fa1859",
   "metadata": {},
   "outputs": [
    {
     "name": "stdout",
     "output_type": "stream",
     "text": [
      "Pairs for sum 10: [(8, 2), (4, 6)]\n"
     ]
    }
   ],
   "source": [
    "def findPair(arr, target_sum):\n",
    "    pairs = []\n",
    "    stored_num = set()\n",
    "    for num in arr:\n",
    "        rest_num = target_sum- num\n",
    "        if rest_num in stored_num:\n",
    "            pairs.append((num, rest_num))\n",
    "        stored_num.add(num)\n",
    "    return pairs\n",
    "arr = [1,2,5,6,7,8,4]\n",
    "required_sum = 10\n",
    "result_pairs = findPair(arr, required_sum)\n",
    "if result_pairs:\n",
    "    print(f\"Pairs for sum {required_sum}: {result_pairs}\")\n",
    "else:\n",
    "    print(f\"Oh!!... Pair not found for the sum {required_sum}\")"
   ]
  },
  {
   "cell_type": "markdown",
   "id": "59981c9c",
   "metadata": {},
   "source": [
    "Q2. Write a program to reverse an array in place? In place means you cannot create a new array. You have to update the original array."
   ]
  },
  {
   "cell_type": "code",
   "execution_count": 79,
   "id": "7eae3f68",
   "metadata": {
    "scrolled": true
   },
   "outputs": [
    {
     "name": "stdout",
     "output_type": "stream",
     "text": [
      "reversed array [4, 8, 7, 6, 5, 2, 1]\n"
     ]
    }
   ],
   "source": [
    "# first method using array as a list\n",
    "arr = [1,2,5,6,7,8,4]\n",
    "print(\"reversed array\", arr[::-1])"
   ]
  },
  {
   "cell_type": "code",
   "execution_count": 81,
   "id": "5651eef6",
   "metadata": {},
   "outputs": [
    {
     "name": "stdout",
     "output_type": "stream",
     "text": [
      "Original Array: [1, 2, 3, 4, 5]\n",
      "Reversed Array: [5, 4, 3, 2, 1]\n"
     ]
    }
   ],
   "source": [
    "# second method\n",
    "\n",
    "def reverse_array(arr):\n",
    "    start = 0 \n",
    "    end = len(arr) - 1\n",
    "\n",
    "    while start < end:\n",
    "        # Swapping elements at start and end indices\n",
    "        arr[start], arr[end] = arr[end], arr[start]\n",
    "\n",
    "        start += 1\n",
    "        end -= 1\n",
    "\n",
    "\n",
    "array = [1, 2, 3, 4, 5]\n",
    "\n",
    "print(\"Original Array:\", array)\n",
    "reverse_array(array)\n",
    "print(\"Reversed Array:\", array)"
   ]
  },
  {
   "cell_type": "markdown",
   "id": "ff944279",
   "metadata": {},
   "source": [
    "Q3. Write a program to check if two strings are a rotation of each other?"
   ]
  },
  {
   "cell_type": "code",
   "execution_count": 83,
   "id": "24399e50",
   "metadata": {},
   "outputs": [
    {
     "name": "stdout",
     "output_type": "stream",
     "text": [
      "strings 'madam' and 'adamm' are IN ROTATION\n"
     ]
    }
   ],
   "source": [
    "def check_str_rotations(str1,str2):\n",
    "    if len(str1 ) != len(str2 ):\n",
    "        return False\n",
    "    \n",
    "    str1 += str1\n",
    "    \n",
    "    if str_2 in str1:\n",
    "        return True\n",
    "    else:\n",
    "        return False\n",
    "        \n",
    "str_1 = 'madam'\n",
    "str_2 = 'adamm'\n",
    "if check_str_rotations(str_1, str_2):\n",
    "    print(f\"strings '{str_1}' and '{str_2}' are IN ROTATION\")\n",
    "else:\n",
    "    print(f\"string '{str_1}' and '{str_2}' are NOT In ROTATION\")"
   ]
  },
  {
   "cell_type": "markdown",
   "id": "2c9c0337",
   "metadata": {},
   "source": [
    "Q4. Write a program to print the first non-repeated character from a string?"
   ]
  },
  {
   "cell_type": "code",
   "execution_count": 84,
   "id": "788062b0",
   "metadata": {},
   "outputs": [
    {
     "name": "stdout",
     "output_type": "stream",
     "text": [
      "s\n"
     ]
    }
   ],
   "source": [
    "def first_non_repeated_char(string):\n",
    "    char_count = {}\n",
    "    \n",
    "    #collecting frequency of each character\n",
    "    for c in string:\n",
    "        char_count[c] = char_count.get(c,0)+1\n",
    "        \n",
    "    #searching non_repeated char\n",
    "    for char in string:\n",
    "        if char_count[char] ==1:\n",
    "            return char\n",
    "    return None\n",
    "        \n",
    "string = \"situation\"\n",
    "    \n",
    "print(first_non_repeated_char(string))"
   ]
  },
  {
   "cell_type": "markdown",
   "id": "770b83a4",
   "metadata": {},
   "source": [
    "Q5. Read about the Tower of Hanoi algorithm. Write a program to implement it."
   ]
  },
  {
   "cell_type": "markdown",
   "id": "61c328ab",
   "metadata": {},
   "source": [
    "- The Tower of Hanoi is a classical problem that involves moving a tower of disks from one rod to another, subject to the following constraints:\n",
    "\n",
    "- Only one disk can be moved at a time.\n",
    "- A disk can only be moved to the top of another rod if it is smaller than the disk already on top of that rod.\n",
    "- No disk can be placed on top of a smaller disk."
   ]
  },
  {
   "cell_type": "code",
   "execution_count": 85,
   "id": "84444a10",
   "metadata": {},
   "outputs": [
    {
     "name": "stdout",
     "output_type": "stream",
     "text": [
      "move disk 1 from A to C\n",
      "move disk 2 from A to B\n",
      "move disk 1 from C to B\n",
      "move disk 3 from A to C\n",
      "move disk 1 from B to A\n",
      "move disk 2 from B to C\n",
      "move disk 1 from A to C\n"
     ]
    }
   ],
   "source": [
    "''' In tower of hanoi we have to stack the tower from the initial peg to the target peg by stacking one disk at a time.\n",
    "we need another peg for stacking the disk to get the sequence right, \n",
    "So there will be three pegs (initial, extra, target) and n as number of disks'''\n",
    "\n",
    "# Using recursion\n",
    "def tower_of_hanoi(n, initial, extra, target):\n",
    "    if n>0:\n",
    "#         shifting one disk from initial to extra and decreasing the number of disks by 1\n",
    "        tower_of_hanoi(n-1, initial, target, extra)\n",
    "        print(f\"move disk {n} from {initial} to {target}\")\n",
    "        tower_of_hanoi(n-1, extra, initial, target)\n",
    "        \n",
    "n_disk = 3\n",
    "initial = 'A'\n",
    "extra = 'B'\n",
    "target ='C'\n",
    "\n",
    "tower_of_hanoi(n_disk, initial, extra, target)"
   ]
  },
  {
   "cell_type": "markdown",
   "id": "f6e56c56",
   "metadata": {},
   "source": [
    "Q6. Read about infix, prefix, and postfix expressions. Write a program to convert postfix to prefix expression."
   ]
  },
  {
   "cell_type": "markdown",
   "id": "6e3cf232",
   "metadata": {},
   "source": [
    "- Infix, Prefix, and Postfix are notations to show arithmetic expressions.\n",
    "\n",
    "- Infix Notation :\n",
    "    The way we simply write arithmetic expressions. such as   **1 + 2**.\n",
    "\n",
    "- Prefix Notation : \n",
    "    The operator comes before the operands. such as    **+ 1 2**.\n",
    "\n",
    "- Postfix Notation : \n",
    "    The operator comes after the operands. such as   **1 2 +**."
   ]
  },
  {
   "cell_type": "code",
   "execution_count": 87,
   "id": "0f49da00",
   "metadata": {},
   "outputs": [
    {
     "name": "stdout",
     "output_type": "stream",
     "text": [
      "Postfix Expression:  12+5*\n",
      "Prefix Expression:  *+125\n"
     ]
    }
   ],
   "source": [
    "def is_operand(c):\n",
    "    return c.isalnum()\n",
    "\n",
    "def postfix_to_prefix(postfix_exp):\n",
    "    stk = []\n",
    "    \n",
    "    for char in postfix_exp:\n",
    "        if is_operand(char):\n",
    "            stk.append(char)\n",
    "        else:\n",
    "            operand2 = stk.pop()\n",
    "            operand1 = stk.pop()\n",
    "            result = char + operand1 + operand2\n",
    "            stk.append(result)\n",
    "\n",
    "    return stk[0]\n",
    "\n",
    "postfix_expression = \"12+5*\"\n",
    "prefix_expression = postfix_to_prefix(postfix_expression)\n",
    "print(\"Postfix Expression: \", postfix_expression)\n",
    "print(\"Prefix Expression: \", prefix_expression)"
   ]
  },
  {
   "cell_type": "markdown",
   "id": "bee24c94",
   "metadata": {},
   "source": [
    "Q7. Write a program to convert prefix expression to infix expression."
   ]
  },
  {
   "cell_type": "code",
   "execution_count": 88,
   "id": "bf512abd",
   "metadata": {},
   "outputs": [
    {
     "name": "stdout",
     "output_type": "stream",
     "text": [
      "Prefix Expression: +*23/18\n",
      "Infix Expression: 2*3+1/8\n"
     ]
    }
   ],
   "source": [
    "def is_operand(c):\n",
    "    return c.isalnum()\n",
    "\n",
    "def prefix_to_infix(prefix_exp):\n",
    "    stk = []\n",
    "\n",
    "    for char in reversed(prefix_exp):\n",
    "        if is_operand(char):\n",
    "            stk.append(char)\n",
    "        else:\n",
    "            operand1 = stk.pop()\n",
    "            operand2 = stk.pop()\n",
    "            result = operand1+ char + operand2\n",
    "            stk.append(result)\n",
    "\n",
    "    return stk[0]\n",
    "\n",
    "# Example Usage:\n",
    "prefix_expression = \"+*23/18\"\n",
    "infix_expression = prefix_to_infix(prefix_expression)\n",
    "print(\"Prefix Expression:\", prefix_expression)\n",
    "print(\"Infix Expression:\", infix_expression)"
   ]
  },
  {
   "cell_type": "markdown",
   "id": "e4224578",
   "metadata": {},
   "source": [
    "Q8. Write a program to check if all the brackets are closed in a given code snippet."
   ]
  },
  {
   "cell_type": "code",
   "execution_count": 90,
   "id": "9dbb2181",
   "metadata": {},
   "outputs": [
    {
     "name": "stdout",
     "output_type": "stream",
     "text": [
      "All brackets are closed.\n"
     ]
    }
   ],
   "source": [
    "def balanced_brackets(exp):\n",
    "    stk = []\n",
    "    bracket_pairs = {')': '(', '}': '{', ']': '['}\n",
    "\n",
    "    for char in exp:\n",
    "        if char in bracket_pairs.values():\n",
    "            stk.append(char)\n",
    "        elif char in bracket_pairs.keys():\n",
    "            if not stk or stk.pop() != bracket_pairs[char]:\n",
    "                return False\n",
    "\n",
    "    return not stk  # If the stack is empty, all brackets are closed\n",
    "\n",
    "# Example Usage:\n",
    "expression = \"[{()}]\"\n",
    "result = balanced_brackets(expression)\n",
    "\n",
    "if result:\n",
    "    print(\"All brackets are closed.\")\n",
    "else:\n",
    "    print(\"All Brackets are not closed properly.\")\n"
   ]
  },
  {
   "cell_type": "markdown",
   "id": "21ba0fc8",
   "metadata": {},
   "source": [
    "Q9. Write a program to reverse a stack."
   ]
  },
  {
   "cell_type": "code",
   "execution_count": 91,
   "id": "10339cca",
   "metadata": {},
   "outputs": [
    {
     "name": "stdout",
     "output_type": "stream",
     "text": [
      "Original Stack: [21, 25, 30, 4]\n",
      "Reversed Stack: [4, 30, 25, 21]\n"
     ]
    }
   ],
   "source": [
    "class Stack:\n",
    "    def __init__(self):\n",
    "        self.items = []\n",
    "\n",
    "    def is_empty(self):\n",
    "        return self.items == []\n",
    "\n",
    "    def push(self, item):\n",
    "        self.items.append(item)\n",
    "\n",
    "    def pop(self):\n",
    "        if not self.is_empty():\n",
    "            return self.items.pop()\n",
    "\n",
    "    def peek(self):\n",
    "        if not self.is_empty():\n",
    "            return self.items[-1]\n",
    "\n",
    "    def size(self):\n",
    "        return len(self.items)\n",
    "\n",
    "\n",
    "def reverse_stack(input_stk):\n",
    "    temp_stack = Stack()\n",
    "    # Pushing all items from main stack to temp_stack\n",
    "    while not input_stk.is_empty():\n",
    "        temp_stack.push(input_stk.pop())\n",
    "\n",
    "    return temp_stack\n",
    "\n",
    "input_stack = Stack()\n",
    "input_stack.push(21)\n",
    "input_stack.push(25)\n",
    "input_stack.push(30)\n",
    "input_stack.push(4)\n",
    "\n",
    "\n",
    "print(\"Original Stack:\", input_stack.items)\n",
    "\n",
    "rev_stack = reverse_stack(input_stack)\n",
    "\n",
    "print(\"Reversed Stack:\", rev_stack.items)\n"
   ]
  },
  {
   "cell_type": "markdown",
   "id": "7d2e9c69",
   "metadata": {},
   "source": [
    "Q10. Write a program to find the smallest number using a stack."
   ]
  },
  {
   "cell_type": "code",
   "execution_count": 92,
   "id": "67e24650",
   "metadata": {},
   "outputs": [
    {
     "name": "stdout",
     "output_type": "stream",
     "text": [
      "Smallest number in stack : 10\n"
     ]
    }
   ],
   "source": [
    "class Min_value_in_Stack:\n",
    "    def __init__(self):\n",
    "        self.stack = []\n",
    "        self.Min_value_in_Stack = []\n",
    "\n",
    "    def is_empty(self):\n",
    "        return len(self.stack) == 0\n",
    "\n",
    "    def push(self, items):\n",
    "        self.stack.append(items)\n",
    "\n",
    "        if not self.Min_value_in_Stack or items <= self.Min_value_in_Stack[-1]:\n",
    "            self.Min_value_in_Stack.append(items)\n",
    "\n",
    "    def pop(self):\n",
    "        if not self.is_empty():\n",
    "            popped_item = self.stack.pop()\n",
    "\n",
    "            if popped_item == self.Min_value_in_Stack[-1]:\n",
    "                self.Min_value_in_Stack.pop()\n",
    "\n",
    "            return popped_item\n",
    "\n",
    "    def find_min_value(self):\n",
    "        if not self.is_empty():\n",
    "            return self.Min_value_in_Stack[-1]\n",
    "\n",
    "\n",
    "stack = Min_value_in_Stack()\n",
    "stack.push(34)\n",
    "stack.push(15)\n",
    "stack.push(22)\n",
    "stack.push(10)\n",
    "\n",
    "print(\"Smallest number in stack :\", stack.find_min_value())"
   ]
  }
 ],
 "metadata": {
  "kernelspec": {
   "display_name": "Python 3 (ipykernel)",
   "language": "python",
   "name": "python3"
  },
  "language_info": {
   "codemirror_mode": {
    "name": "ipython",
    "version": 3
   },
   "file_extension": ".py",
   "mimetype": "text/x-python",
   "name": "python",
   "nbconvert_exporter": "python",
   "pygments_lexer": "ipython3",
   "version": "3.11.3"
  }
 },
 "nbformat": 4,
 "nbformat_minor": 5
}
